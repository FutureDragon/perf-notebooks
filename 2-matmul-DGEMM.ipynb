{
 "cells": [
  {
   "cell_type": "markdown",
   "metadata": {},
   "source": [
    "Timing the dgemm version of DGEMM in book \"Computer Organization and Design RISC-V Edition\"\n",
    "\n",
    "by David A. Patterson, John L. Hennessy\n",
    "\n",
    "DGEMM, stands for Double precision, General Matrix Multiply"
   ]
  },
  {
   "cell_type": "code",
   "execution_count": null,
   "metadata": {},
   "outputs": [],
   "source": [
    "%%writefile dgemm.c\n",
    "#include <stdio.h>\n",
    "#include <stdlib.h>\n",
    "#include <time.h>\n",
    "\n",
    "void dgemm (size_t n, double* A, double* B, double* C)\n",
    "{\n",
    "    for (size_t i = 0; i < n; ++i)\n",
    "        for (size_t j = 0; j < n; ++j)\n",
    "        {\n",
    "            double cij = C[i+j*n]; /* cij = C[i][j] */\n",
    "            for(size_t k = 0; k < n; k++ )\n",
    "                cij += A[i+k*n] * B[k+j*n]; /* cij+=A[i][k]*B[k][j] */\n",
    "            C[i+j*n] = cij; /* C[i][j] = cij */\n",
    "        }\n",
    "}\n",
    "\n",
    "\n",
    "int main()\n",
    "{\n",
    "    time_t start, end;\n",
    "    const int rowSize = 2048;\n",
    "    srand(123);\n",
    "\n",
    "    double *a = (double *)malloc(rowSize * rowSize * sizeof(double));\n",
    "    double *b = (double *)malloc(rowSize * rowSize * sizeof(double));\n",
    "    double *c = (double *)malloc(rowSize * rowSize * sizeof(double));\n",
    "\n",
    "    for(int i=0; i< rowSize; i++) {\n",
    "        for(int j=0; j< rowSize; j++) {\n",
    "            a[i+j*rowSize] =  rand()/RAND_MAX;\n",
    "            b[i+j*rowSize] =  rand()/RAND_MAX;\n",
    "            c[i+j*rowSize] = 0;\n",
    "        }\n",
    "    }\n",
    "\n",
    "    start = clock();\n",
    "\n",
    "    dgemm (rowSize, c, a, b);\n",
    "\n",
    "    end = clock();\n",
    "\n",
    "    if (a) free (a);\n",
    "    if (b) free (b);\n",
    "    if (c) free (c);\n",
    "\n",
    "    printf(\"Time taken: %ld\\n\", (long)(end - start));\n",
    "    return 0;\n",
    "}\n"
   ]
  },
  {
   "cell_type": "markdown",
   "metadata": {},
   "source": [
    "GCC compiler"
   ]
  },
  {
   "cell_type": "code",
   "execution_count": null,
   "metadata": {},
   "outputs": [],
   "source": [
    "%%bash\n",
    "gcc -o dgemm_gcc.exe dgemm.c"
   ]
  },
  {
   "cell_type": "code",
   "execution_count": null,
   "metadata": {},
   "outputs": [],
   "source": [
    "%%bash\n",
    "./dgemm_gcc.exe"
   ]
  },
  {
   "cell_type": "markdown",
   "metadata": {},
   "source": [
    "MSVC compiler"
   ]
  },
  {
   "cell_type": "code",
   "execution_count": null,
   "metadata": {},
   "outputs": [],
   "source": [
    "%%cmd\n",
    "cl /EHsc dgemm.c /Fe:dgemm.exe"
   ]
  },
  {
   "cell_type": "code",
   "execution_count": null,
   "metadata": {},
   "outputs": [],
   "source": [
    "%%cmd\n",
    "dgemm.exe"
   ]
  },
  {
   "cell_type": "markdown",
   "metadata": {},
   "source": [
    "Results run on my local dev machine. Note the difference of what clock() returns. Note this version is significantly slower than mm version.\n",
    "gcc  Time taken: 144044976  (6.6 x of mm version)\n",
    "msvc Time taken: 69485      (3.3 x of mm version)"
   ]
  }
 ],
 "metadata": {
  "kernelspec": {
   "display_name": "base",
   "language": "python",
   "name": "python3"
  },
  "language_info": {
   "codemirror_mode": {
    "name": "ipython",
    "version": 3
   },
   "file_extension": ".py",
   "mimetype": "text/x-python",
   "name": "python",
   "nbconvert_exporter": "python",
   "pygments_lexer": "ipython3",
   "version": "3.11.5"
  }
 },
 "nbformat": 4,
 "nbformat_minor": 2
}
