{
 "cells": [
  {
   "cell_type": "markdown",
   "metadata": {},
   "source": [
    "Timing the mm version of DGEMM in book \"Computer Organization and Design RISC-V Edition\"\n",
    "\n",
    "by David A. Patterson, John L. Hennessy\n",
    "\n",
    "DGEMM, stands for Double precision, General Matrix Multiply"
   ]
  },
  {
   "cell_type": "code",
   "execution_count": null,
   "metadata": {},
   "outputs": [],
   "source": [
    "%%writefile mm.c\n",
    "#include <stdio.h>\n",
    "#include <stdlib.h>\n",
    "#include <time.h>\n",
    "\n",
    "//\n",
    "//added size_t N parameter, and changed [][] subscript to [] as [][] won't compile\n",
    "// \n",
    "void mm (size_t N, double c[], double a[], double b[])\n",
    "{\n",
    "\n",
    "  size_t i, j, k;\n",
    "\n",
    "  for (i = 0; i < N; i = i + 1)\n",
    "    for (j = 0; j < N; j = j + 1)\n",
    "        for (k = 0; k < N; k = k + 1)\n",
    "            c[i+j] = c[i+j] + a[i+k] *b[k+j];\n",
    "\n",
    "}\n",
    "\n",
    "int main()\n",
    "{\n",
    "    time_t start, end;\n",
    "    const int rowSize = 2048;\n",
    "    srand(123);\n",
    "\n",
    "    double *a = (double *)malloc(rowSize * rowSize * sizeof(double));\n",
    "    double *b = (double *)malloc(rowSize * rowSize * sizeof(double));\n",
    "    double *c = (double *)malloc(rowSize * rowSize * sizeof(double));\n",
    "\n",
    "    for(int i=0; i< rowSize; i++) {\n",
    "        for(int j=0; j< rowSize; j++) {\n",
    "            a[i+j*rowSize] =  rand()/RAND_MAX;\n",
    "            b[i+j*rowSize] =  rand()/RAND_MAX;\n",
    "            c[i+j*rowSize] = 0;\n",
    "        }\n",
    "    }\n",
    "\n",
    "    start = clock();\n",
    "\n",
    "    mm (rowSize, c, a, b);\n",
    "\n",
    "    end = clock();\n",
    "\n",
    "    if (a) free (a);\n",
    "    if (b) free (b);\n",
    "    if (c) free (c);\n",
    "\n",
    "    printf(\"Time taken: %ld\\n\", (long)(end - start));\n",
    "    return 0;\n",
    "}\n"
   ]
  },
  {
   "cell_type": "markdown",
   "metadata": {},
   "source": [
    "GCC compiler"
   ]
  },
  {
   "cell_type": "code",
   "execution_count": null,
   "metadata": {},
   "outputs": [],
   "source": [
    "%%bash\n",
    "gcc -o mm_gcc.exe mm.c"
   ]
  },
  {
   "cell_type": "code",
   "execution_count": null,
   "metadata": {},
   "outputs": [],
   "source": [
    "%%bash\n",
    "./mm_gcc.exe"
   ]
  },
  {
   "cell_type": "markdown",
   "metadata": {},
   "source": [
    "MSVC compiler"
   ]
  },
  {
   "cell_type": "code",
   "execution_count": null,
   "metadata": {},
   "outputs": [],
   "source": [
    "%%cmd\n",
    "cl /EHsc mm.c /Fe:mm.exe"
   ]
  },
  {
   "cell_type": "code",
   "execution_count": null,
   "metadata": {},
   "outputs": [],
   "source": [
    "%%cmd\n",
    "mm.exe"
   ]
  },
  {
   "cell_type": "markdown",
   "metadata": {},
   "source": [
    "Results run on my local dev machine. Note the difference of what clock() returns:\n",
    "gcc  Time taken: 21805282\n",
    "msvc Time taken: 21040"
   ]
  }
 ],
 "metadata": {
  "kernelspec": {
   "display_name": "base",
   "language": "python",
   "name": "python3"
  },
  "language_info": {
   "codemirror_mode": {
    "name": "ipython",
    "version": 3
   },
   "file_extension": ".py",
   "mimetype": "text/x-python",
   "name": "python",
   "nbconvert_exporter": "python",
   "pygments_lexer": "ipython3",
   "version": "3.11.5"
  }
 },
 "nbformat": 4,
 "nbformat_minor": 2
}
